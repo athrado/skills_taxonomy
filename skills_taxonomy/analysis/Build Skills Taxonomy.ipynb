{
 "cells": [
  {
   "cell_type": "markdown",
   "metadata": {},
   "source": [
    "# Nesta Data Scientist Assignment\n",
    "----\n",
    "\n",
    "Submission: Julia Suter, March 2021\n",
    "\n",
    "## Task Description \n",
    "\n",
    "(provided by Nesta)\n",
    "> In this exercise, we ask you to explore how an established labour market framework\n",
    "    can be used to start developing a map of jobs and skills. In this assignment you will\n",
    "    work with the [European Skills, Competences, Qualifications and Occupations (ESCO)](https://ec.europa.eu/esco/portal)\n",
    "    framework. ESCO has been developed by the European Commission and includes\n",
    "    information on relationships between 2,942 occupations and 13,485\n",
    "    skills/competences.\n",
    ">    \n",
    "> **Data**\n",
    ">\n",
    ">    The following datasets are provided:\n",
    " - **occupations_en.csv** contains information on 2,942 detailed occupations,\n",
    "including alternative occupation titles and occupation descriptions. Note that\n",
    "these occupations are aligned with a hierarchical occupational classification\n",
    "International Standard Classification of Occupations (ISCO). The ISCO system\n",
    "has four levels based on the number of digits in the code (with four digit\n",
    "codes being the most finely grained classification and first digit being the\n",
    "coarsest classification). The detailed occupations in the file represent a further\n",
    "more granular level of the classification. The field ‘iscoGroup’ refers to the\n",
    "code of the parent ISCO occupational group. The UK Standard Occupational\n",
    "Classification closely resembles ISCO and has a similar structure.\n",
    ">\n",
    ">- **skills_en.csv** describes individual skills in the ESCO framework.\n",
    ">\n",
    ">\n",
    ">- **ESCO_occup_skills.json** is a dictionary, where the title of a detailed ESCO\n",
    "occupation serves as a key, and the description of this occupation is stored\n",
    "as a set of nested dictionaries. This file provides a link between occupations\n",
    "and skills that they require under label ‘_links’ and lists skills under further\n",
    "nested dictionaries (‘hasEssentialSkill’ for essential skill requirements and\n",
    "‘hasOptionalSkill’ for optional skills).\n",
    "So, to extract essential skills for an occupation with the official title Broadcast\n",
    "technician using Python from ESCO_occup_skills dictionary, you would use `\n",
    "ESCO_occup_skills['broadcast technician']['_links']['hasEssentialSkill']`\n",
    ">\n",
    ">**Exercise**\n",
    ">\n",
    ">Using this data we would like you to carry out one of the following tasks:\n",
    ">\n",
    ">    **a) Build an alternative occupation classification.** We are asking you to\n",
    "develop a data-driven categorisation of the 2,942 detailed occupations\n",
    "to construct an alternative to the existing ISCO hierarchy. One possible\n",
    "way to do that is to group occupations that have similar skill requirements.\n",
    "As an example, one branch of a hierarchical occupation classification\n",
    "could look like: \n",
    ">Health Professionals → Medical Practitioners → Doctor\n",
    "   \n",
    ">    **b) Build a skills taxonomy.** The objective of this task is to identify meaningful\n",
    "groups of skills with a data driven approach. You might group skills that\n",
    "occur together frequently or in similar contexts, or that are similar in\n",
    "another way. As an example, one branch of a skills taxonomy could look\n",
    "like: Computer skills → Software development skills → Python\n",
    ">\n",
    ">There are different ways to approach these problems. For example, you might use\n",
    "tools from machine learning, natural language processing or network science.\n",
    "There is no ‘right answer’ or single approach for either task, and we acknowledge\n",
    "the limitations of the data.\n",
    "\n",
    "\n",
    "## My Approach in a Nutshell\n",
    "\n",
    "\n",
    "To tackle **Task b) Build a skills taxonomy**, we start by **loading and inspecting the provided data** and its structure. We build several **helper functions, classes and dictionaries and graphs** for easier processing at later stages. We also **visualize the ISCO structure** and its associated occupations to gain a better understanding. \n",
    "\n",
    "Using the generated circular tree ISCO graph and the information about skills, occupations and ISCO ID, we develop a **measure for calculating the relevance of a skill** at any given node in the ISCO graph, by adapting the *tf-idf* measure. The *tf-idf* represents the relevance of a skill with regards to the skills frequency and distribution across the graph. \n",
    "\n",
    "The *tf-idf* for skill at each node in the ISCO graph is used as a feature set. In order to fight the curse of dimensionality, we apply **dimensinality reduction using latent semantic analysis (LSA)**. We employ **k-means clustering** for finding groups of skills with similar features. \n",
    "\n",
    "Finally, for each skill in a cluster, we compute the two most similar skills by **computing the cosine similarity of the word embeddings** of their skill description. We **rank the skills by their *document frequency*** (collected at the feature engineering step), which allows the **creation of candidate branches in the taxonomy**.\n",
    "\n",
    "\n",
    "###  Structure of this Jupyter Notebook<a id='top'></a>\n",
    "\n",
    "This notebook shows a prototype for solving **Task b) Build a skills taxonomy**. It describes the entire process for developing this approach, including data analysis and some processing steps that are not necessary for the final pipeline. Some of the ideas and code blocks could also be utilize for solving Task a). \n",
    "\n",
    "\n",
    "- [Loading, Analysing and Preprocessing](#loading)\n",
    "    - Load the data\n",
    "    - Inspect the data\n",
    "    - Preprocess and build dictionaries\n",
    "    - Class for ISCO IDs\n",
    "    - Get essential and option skills\n",
    "    - Get skills for occupaton top group\n",
    "        \n",
    "        \n",
    "- [Visualization](#visual)  \n",
    "    - First visualization of occupations with ISCO similarity\n",
    "    - Reduced ISCO graph for understanding ISCO structure\n",
    "    - Full directed ISCO graph for futher computation\n",
    "    \n",
    "    \n",
    "- [Feature Engineering](#feat)\n",
    "    - Compute number leaf nodes for given node\n",
    "    - Compute term frequency\n",
    "    - Compute document frequency\n",
    "    - Compute tf-idf feature array\n",
    "\n",
    "\n",
    "- [Clustering](#cluster)\n",
    "\n",
    "    - Reduce feature set\n",
    "    - Scale features (MinMaxScaler)\n",
    "    - Dimensionality reduction using LSA\n",
    "    - k-means clustering\n",
    "    - Load skills data and inspect clusters\n",
    "\n",
    "\n",
    "- [Taxonomy](#tax)\n",
    "\n",
    "    - Embed skill descriptions using word embeddings\n",
    "    - Compute cosine similarity\n",
    "    - Find most similar skills by description    \n",
    "    - Use document frequency for ranking skills\n",
    "    - Build taxonomy branches\n",
    "    - Inspect results\n",
    "    \n",
    "    \n",
    "- [Conclusion](#con)"
   ]
  },
  {
   "cell_type": "markdown",
   "metadata": {},
   "source": [
    "## Loading and Inspecting Data<a id='loading'></a>\n",
    "[[back to top]](#top)\n",
    "\n",
    "    - Load the data\n",
    "    - Inspect the data\n",
    "    - Preprocess and build dictionaries\n",
    "    - Class for ISCO IDs\n",
    "    - Get essential and option skills\n",
    "    - Get skills for occupaton top group\n",
    "\n",
    "As a first step, we load the data, inspect and analyse it. We load the occupation and skill sets in a dataframe structure and we set up dictionaries that help connecting occupation, skill and ISCO ID. We also fix some input errors in the ISCO IDs."
   ]
  },
  {
   "cell_type": "markdown",
   "metadata": {},
   "source": [
    "### Imports\n",
    "\n",
    "We require several libaries for this project. For data representation, we use `pandas`, `numpy` and `networkx`. For visualization, we require `networkx` and `matplotlib`. For dimensionality reduction and clustering, we employ `scikit-learn`. And for the NLP tasks of lemmatization and word embeddings, we require `nltk` and `gensim`.\n",
    "\n",
    "You can find `requirements.txt` in the project folder."
   ]
  },
  {
   "cell_type": "code",
   "execution_count": 1,
   "metadata": {},
   "outputs": [],
   "source": [
    "import pandas as pd\n",
    "import numpy as np\n",
    "\n",
    "from sklearn import preprocessing\n",
    "\n",
    "import matplotlib.pyplot as plt\n",
    "from matplotlib import cm\n",
    "\n",
    "from skills_taxonomy import get_yaml_config, Path\n",
    "\n",
    "import networkx as nx\n",
    "from networkx.drawing.nx_agraph import graphviz_layout\n",
    "\n",
    "\n",
    "import skills_taxonomy.getters as getters\n",
    "import skills_taxonomy.utils as utils\n",
    "from skills_taxonomy.utils import plotting\n",
    "\n",
    "from skills_taxonomy.pipeline import data_mapping, skills\n",
    "from skills_taxonomy.pipeline.data_mapping import ISCO\n",
    "from skills_taxonomy.pipeline import ISCO_graphs\n",
    "from skills_taxonomy.pipeline import clustering, build_taxonomy_branches, word_embeddings\n",
    "\n",
    "from ipywidgets import interact, interactive, Dropdown"
   ]
  },
  {
   "cell_type": "markdown",
   "metadata": {},
   "source": [
    "### Occupation Data\n",
    "Load occupations with ISCO ID, preferred and alternative labels, and descriptions. \n",
    "The occupations are very specific, e.g. *metal drawing machine operator* or *air traffic safety technician*. This is not surprising as they represent the most fine-grained ISCO level.\n",
    "\n",
    "Note that there is only one value (*Occupation*) for the column `conceptType`, so this column represents no relevant information and should not be included when training a model on this data."
   ]
  },
  {
   "cell_type": "code",
   "execution_count": 2,
   "metadata": {},
   "outputs": [
    {
     "name": "stdout",
     "output_type": "stream",
     "text": [
      "Number of occupations: \t2942\n",
      "Number of skills: \t13485\n"
     ]
    }
   ],
   "source": [
    "# Load occupations, skills and dict\n",
    "occupations_df = getters.isco_esco_data.get_occupations()\n",
    "skills_df = getters.isco_esco_data.get_skills()\n",
    "occ_skill_dict = getters.isco_esco_data.get_occup_skill_dict()\n",
    "\n",
    "print('Number of occupations: \\t{}'.format(occupations_df.shape[0]))\n",
    "print('Number of skills: \\t{}'.format(skills_df.shape[0]))"
   ]
  },
  {
   "cell_type": "code",
   "execution_count": 3,
   "metadata": {},
   "outputs": [
    {
     "data": {
      "text/html": [
       "<div>\n",
       "<style scoped>\n",
       "    .dataframe tbody tr th:only-of-type {\n",
       "        vertical-align: middle;\n",
       "    }\n",
       "\n",
       "    .dataframe tbody tr th {\n",
       "        vertical-align: top;\n",
       "    }\n",
       "\n",
       "    .dataframe thead th {\n",
       "        text-align: right;\n",
       "    }\n",
       "</style>\n",
       "<table border=\"1\" class=\"dataframe\">\n",
       "  <thead>\n",
       "    <tr style=\"text-align: right;\">\n",
       "      <th></th>\n",
       "      <th>conceptType</th>\n",
       "      <th>conceptUri</th>\n",
       "      <th>iscoGroup</th>\n",
       "      <th>preferredLabel</th>\n",
       "      <th>altLabels</th>\n",
       "      <th>description</th>\n",
       "    </tr>\n",
       "  </thead>\n",
       "  <tbody>\n",
       "    <tr>\n",
       "      <th>0</th>\n",
       "      <td>Occupation</td>\n",
       "      <td>http://data.europa.eu/esco/occupation/00030d09...</td>\n",
       "      <td>2166</td>\n",
       "      <td>technical director</td>\n",
       "      <td>technical and operations director\\nhead of tec...</td>\n",
       "      <td>Technical directors realise the artistic visio...</td>\n",
       "    </tr>\n",
       "    <tr>\n",
       "      <th>1</th>\n",
       "      <td>Occupation</td>\n",
       "      <td>http://data.europa.eu/esco/occupation/000e93a3...</td>\n",
       "      <td>8121</td>\n",
       "      <td>metal drawing machine operator</td>\n",
       "      <td>metal drawing machine technician\\nmetal drawin...</td>\n",
       "      <td>Metal drawing machine operators set up and ope...</td>\n",
       "    </tr>\n",
       "    <tr>\n",
       "      <th>2</th>\n",
       "      <td>Occupation</td>\n",
       "      <td>http://data.europa.eu/esco/occupation/0019b951...</td>\n",
       "      <td>7543</td>\n",
       "      <td>precision device inspector</td>\n",
       "      <td>inspector of precision instruments\\nprecision ...</td>\n",
       "      <td>Precision device inspectors make sure precisio...</td>\n",
       "    </tr>\n",
       "    <tr>\n",
       "      <th>3</th>\n",
       "      <td>Occupation</td>\n",
       "      <td>http://data.europa.eu/esco/occupation/0022f466...</td>\n",
       "      <td>3155</td>\n",
       "      <td>air traffic safety technician</td>\n",
       "      <td>air traffic safety electronics hardware specia...</td>\n",
       "      <td>Air traffic safety technicians provide technic...</td>\n",
       "    </tr>\n",
       "    <tr>\n",
       "      <th>4</th>\n",
       "      <td>Occupation</td>\n",
       "      <td>http://data.europa.eu/esco/occupation/002da35b...</td>\n",
       "      <td>2431</td>\n",
       "      <td>hospitality revenue manager</td>\n",
       "      <td>hospitality revenues manager\\nyield manager\\nh...</td>\n",
       "      <td>Hospitality revenue managers maximise revenue ...</td>\n",
       "    </tr>\n",
       "  </tbody>\n",
       "</table>\n",
       "</div>"
      ],
      "text/plain": [
       "  conceptType                                         conceptUri  iscoGroup  \\\n",
       "0  Occupation  http://data.europa.eu/esco/occupation/00030d09...       2166   \n",
       "1  Occupation  http://data.europa.eu/esco/occupation/000e93a3...       8121   \n",
       "2  Occupation  http://data.europa.eu/esco/occupation/0019b951...       7543   \n",
       "3  Occupation  http://data.europa.eu/esco/occupation/0022f466...       3155   \n",
       "4  Occupation  http://data.europa.eu/esco/occupation/002da35b...       2431   \n",
       "\n",
       "                   preferredLabel  \\\n",
       "0              technical director   \n",
       "1  metal drawing machine operator   \n",
       "2      precision device inspector   \n",
       "3   air traffic safety technician   \n",
       "4     hospitality revenue manager   \n",
       "\n",
       "                                           altLabels  \\\n",
       "0  technical and operations director\\nhead of tec...   \n",
       "1  metal drawing machine technician\\nmetal drawin...   \n",
       "2  inspector of precision instruments\\nprecision ...   \n",
       "3  air traffic safety electronics hardware specia...   \n",
       "4  hospitality revenues manager\\nyield manager\\nh...   \n",
       "\n",
       "                                         description  \n",
       "0  Technical directors realise the artistic visio...  \n",
       "1  Metal drawing machine operators set up and ope...  \n",
       "2  Precision device inspectors make sure precisio...  \n",
       "3  Air traffic safety technicians provide technic...  \n",
       "4  Hospitality revenue managers maximise revenue ...  "
      ]
     },
     "execution_count": 3,
     "metadata": {},
     "output_type": "execute_result"
    }
   ],
   "source": [
    "# Preview the first 5 lines of the loaded data \n",
    "occupations_df.head()"
   ]
  },
  {
   "cell_type": "markdown",
   "metadata": {},
   "source": [
    "### Unique ISCO IDs\n",
    "\n",
    "There are 2942 occupations but only 426 ISCO IDs, which means that **several occupations share an ISCO ID**. Thus, the 4-digit ISCO ID does not represent one specific occupation but several similar professions.\n",
    "\n",
    "\n",
    "### Fixing incomplete ISCO IDs\n",
    "In this dataset, we find three ISCO IDs with **only 3 digits**. At first, we assumed that they simply represent slighly more general occupations. However, upon inspection, we find that they all represent various military professions and ranks, e.g. *colonel*, *brigadier*, *army corporal*, *air force pilot* and *infantry soldier*.\n",
    "\n",
    "The top level occupation group for **Armed forces occupations** has the digit 0. We assume that the initial 0 was accidentally dropped when converting the data to a csv file, resulting in those incomplete 3 digit ISCO IDs. An easy fix for this problem is **prefixing them with a 0**, which brings all ISCO IDs into the same format and makes *Armed forces occupations* identifiable by their top level group index. (We apply this fix further down in the ISCO Class.)"
   ]
  },
  {
   "cell_type": "code",
   "execution_count": 4,
   "metadata": {},
   "outputs": [
    {
     "name": "stdout",
     "output_type": "stream",
     "text": [
      "# occupations: 2942\n",
      "# unique ISCO IDs: 426\n",
      "\n",
      "# short ISCO IDs: 3\n"
     ]
    },
    {
     "data": {
      "image/png": "[encoded data removed]",
      "text/plain": [
       "<Figure size 1440x3600 with 80 Axes>"
      ]
     },
     "metadata": {
      "needs_background": "light"
     },
     "output_type": "display_data"
    }
   ],
   "source": [
    "# How many different iscoGroups\n",
    "print('# occupations: {}'.format(occupations_df.shape[0]))\n",
    "print('# unique ISCO IDs: {}'.format(occupations_df['iscoGroup'].nunique()))\n",
    "print()\n",
    "\n",
    "# Get ISCO IDs with less than 4 digits\n",
    "short_iscos = [isco for isco in occupations_df['iscoGroup'].unique() if len(str(isco))<4]\n",
    "\n",
    "print('# short ISCO IDs: {}'.format(len(short_iscos)))\n",
    "\n",
    "# Plot the histograms for the features \n",
    "isco_histo = occupations_df.hist(bins=50, figsize=(20,50), layout=(20,4))"
   ]
  },
  {
   "cell_type": "markdown",
   "metadata": {},
   "source": [
    "### Skill Data\n",
    "Load skills with type and reuse level, preferred and alternative labels, and descriptions.\n",
    "\n",
    "As with the occupation dataframe, the *conceptType* shows only one value across all samples. The *skillType* has three different values: the most frequent is *skill/competence*, followed by *knowledge* and a single instance of *skill/competence knowledge*. This information can be useful for classifying skills, although we assume that not every skill can easily be divided into *knowledge* and *skill/competence*, as they often require both. How was it decided to which category they belong?\n",
    "\n",
    "The *reuseLevel* has four different cateogories: *sector-specific*, *cross-sector*, *occupation-specific* and *transversal*. This could be useful for finding new occupations given a skill set.\n"
   ]
  },
  {
   "cell_type": "code",
   "execution_count": 5,
   "metadata": {},
   "outputs": [
    {
     "data": {
      "text/html": [
       "<div>\n",
       "<style scoped>\n",
       "    .dataframe tbody tr th:only-of-type {\n",
       "        vertical-align: middle;\n",
       "    }\n",
       "\n",
       "    .dataframe tbody tr th {\n",
       "        vertical-align: top;\n",
       "    }\n",
       "\n",
       "    .dataframe thead th {\n",
       "        text-align: right;\n",
       "    }\n",
       "</style>\n",
       "<table border=\"1\" class=\"dataframe\">\n",
       "  <thead>\n",
       "    <tr style=\"text-align: right;\">\n",
       "      <th></th>\n",
       "      <th>conceptType</th>\n",
       "      <th>conceptUri</th>\n",
       "      <th>skillType</th>\n",
       "      <th>reuseLevel</th>\n",
       "      <th>preferredLabel</th>\n",
       "      <th>altLabels</th>\n",
       "      <th>description</th>\n",
       "    </tr>\n",
       "  </thead>\n",
       "  <tbody>\n",
       "    <tr>\n",
       "      <th>0</th>\n",
       "      <td>KnowledgeSkillCompetence</td>\n",
       "      <td>http://data.europa.eu/esco/skill/0005c151-5b5a...</td>\n",
       "      <td>skill/competence</td>\n",
       "      <td>sector-specific</td>\n",
       "      <td>manage musical staff</td>\n",
       "      <td>manage staff of music\\ncoordinate duties of mu...</td>\n",
       "      <td>Assign and manage staff tasks in areas such as...</td>\n",
       "    </tr>\n",
       "    <tr>\n",
       "      <th>1</th>\n",
       "      <td>KnowledgeSkillCompetence</td>\n",
       "      <td>http://data.europa.eu/esco/skill/00064735-8fad...</td>\n",
       "      <td>skill/competence</td>\n",
       "      <td>occupation-specific</td>\n",
       "      <td>supervise correctional procedures</td>\n",
       "      <td>oversee prison procedures\\nmanage correctional...</td>\n",
       "      <td>Supervise the operations of a correctional fac...</td>\n",
       "    </tr>\n",
       "    <tr>\n",
       "      <th>2</th>\n",
       "      <td>KnowledgeSkillCompetence</td>\n",
       "      <td>http://data.europa.eu/esco/skill/000709ed-2be5...</td>\n",
       "      <td>skill/competence</td>\n",
       "      <td>sector-specific</td>\n",
       "      <td>apply anti-oppressive practices</td>\n",
       "      <td>apply non-oppressive practices\\napply an anti-...</td>\n",
       "      <td>Identify oppression in societies, economies, c...</td>\n",
       "    </tr>\n",
       "    <tr>\n",
       "      <th>3</th>\n",
       "      <td>KnowledgeSkillCompetence</td>\n",
       "      <td>http://data.europa.eu/esco/skill/0007bdc2-dd15...</td>\n",
       "      <td>skill/competence</td>\n",
       "      <td>sector-specific</td>\n",
       "      <td>control compliance of railway vehicles regulat...</td>\n",
       "      <td>monitoring of compliance with railway vehicles...</td>\n",
       "      <td>Inspect rolling stock, components and systems ...</td>\n",
       "    </tr>\n",
       "    <tr>\n",
       "      <th>4</th>\n",
       "      <td>KnowledgeSkillCompetence</td>\n",
       "      <td>http://data.europa.eu/esco/skill/00090cc1-1f27...</td>\n",
       "      <td>skill/competence</td>\n",
       "      <td>cross-sector</td>\n",
       "      <td>identify available services</td>\n",
       "      <td>establish available services\\ndetermine rehabi...</td>\n",
       "      <td>Identify the different services available for ...</td>\n",
       "    </tr>\n",
       "  </tbody>\n",
       "</table>\n",
       "</div>"
      ],
      "text/plain": [
       "                conceptType  \\\n",
       "0  KnowledgeSkillCompetence   \n",
       "1  KnowledgeSkillCompetence   \n",
       "2  KnowledgeSkillCompetence   \n",
       "3  KnowledgeSkillCompetence   \n",
       "4  KnowledgeSkillCompetence   \n",
       "\n",
       "                                          conceptUri         skillType  \\\n",
       "0  http://data.europa.eu/esco/skill/0005c151-5b5a...  skill/competence   \n",
       "1  http://data.europa.eu/esco/skill/00064735-8fad...  skill/competence   \n",
       "2  http://data.europa.eu/esco/skill/000709ed-2be5...  skill/competence   \n",
       "3  http://data.europa.eu/esco/skill/0007bdc2-dd15...  skill/competence   \n",
       "4  http://data.europa.eu/esco/skill/00090cc1-1f27...  skill/competence   \n",
       "\n",
       "            reuseLevel                                     preferredLabel  \\\n",
       "0      sector-specific                               manage musical staff   \n",
       "1  occupation-specific                  supervise correctional procedures   \n",
       "2      sector-specific                    apply anti-oppressive practices   \n",
       "3      sector-specific  control compliance of railway vehicles regulat...   \n",
       "4         cross-sector                        identify available services   \n",
       "\n",
       "                                           altLabels  \\\n",
       "0  manage staff of music\\ncoordinate duties of mu...   \n",
       "1  oversee prison procedures\\nmanage correctional...   \n",
       "2  apply non-oppressive practices\\napply an anti-...   \n",
       "3  monitoring of compliance with railway vehicles...   \n",
       "4  establish available services\\ndetermine rehabi...   \n",
       "\n",
       "                                         description  \n",
       "0  Assign and manage staff tasks in areas such as...  \n",
       "1  Supervise the operations of a correctional fac...  \n",
       "2  Identify oppression in societies, economies, c...  \n",
       "3  Inspect rolling stock, components and systems ...  \n",
       "4  Identify the different services available for ...  "
      ]
     },
     "execution_count": 5,
     "metadata": {},
     "output_type": "execute_result"
    }
   ],
   "source": [
    "# Preview the first 5 lines of the loaded data \n",
    "skills_df.head()"
   ]
  },
  {
   "cell_type": "code",
   "execution_count": 6,
   "metadata": {},
   "outputs": [
    {
     "data": {
      "text/plain": [
       "skill/competence              10582\n",
       "knowledge                      2902\n",
       "skill/competence knowledge        1\n",
       "Name: skillType, dtype: int64"
      ]
     },
     "execution_count": 6,
     "metadata": {},
     "output_type": "execute_result"
    }
   ],
   "source": [
    "skills_df[\"skillType\"].value_counts()"
   ]
  },
  {
   "cell_type": "code",
   "execution_count": 7,
   "metadata": {},
   "outputs": [
    {
     "data": {
      "text/plain": [
       "sector-specific        6412\n",
       "cross-sector           3643\n",
       "occupation-specific    2977\n",
       "transversal             453\n",
       "Name: reuseLevel, dtype: int64"
      ]
     },
     "execution_count": 7,
     "metadata": {},
     "output_type": "execute_result"
    }
   ],
   "source": [
    "skills_df[\"reuseLevel\"].value_counts()"
   ]
  },
  {
   "cell_type": "markdown",
   "metadata": {},
   "source": [
    "### Counts and Examples\n",
    "\n",
    "Remember that we have three main types of data: **occupations, skill and ISCO IDs**. \n",
    "Here we print the number of unique values and several examples for each to get a better understanding."
   ]
  },
  {
   "cell_type": "code",
   "execution_count": 8,
   "metadata": {},
   "outputs": [
    {
     "name": "stdout",
     "output_type": "stream",
     "text": [
      "# occupations: 2942\n",
      "['3D animator', '3D modeller', '3D printing technician', 'ATM repair technician', 'Freinet school teacher']\n",
      "\n",
      "# skills: 13485\n",
      "['3D body scanning technologies', '3D lighting', '3D modelling', '3D printing process', '3D texturing']\n",
      "\n",
      "# ISCO: 426\n",
      "[110, 210, 310, 1111, 1112]\n",
      "\n"
     ]
    }
   ],
   "source": [
    "# Get set of all unique occupations\n",
    "occupation_set = sorted(set(occupations_df[\"preferredLabel\"].values))\n",
    "print('# occupations: {}'.format(len(occupation_set)))\n",
    "print(occupation_set[:5])\n",
    "print()\n",
    "\n",
    "# Get set of all unique skills\n",
    "skill_set = sorted(set(skills_df[\"preferredLabel\"].values))\n",
    "print('# skills: {}'.format(len(skill_set)))\n",
    "print(skill_set[:5])\n",
    "print()\n",
    "\n",
    "# Get set of all unique occupations\n",
    "isco_set = sorted(set(occupations_df[\"iscoGroup\"].values))\n",
    "print('# ISCO: {}'.format(len(isco_set)))\n",
    "print(isco_set[:5])\n",
    "print()"
   ]
  },
  {
   "cell_type": "markdown",
   "metadata": {},
   "source": [
    "### Essential and Optional Skills\n",
    "\n",
    "Load the essential and optional skills for given occupation from the `ESCO_occup_skills.json`. The function below facilitates the retrieval. Below you can see some examples for required and optional skills. Note that **not every occupation has an optional skill set** and one occupation (*specialist dentist*) is even missing the essential skill set. "
   ]
  },
  {
   "cell_type": "code",
   "execution_count": 9,
   "metadata": {},
   "outputs": [
    {
     "name": "stdout",
     "output_type": "stream",
     "text": [
      "Essential skills for technical director:\n",
      "[\"adapt to artists' creative demands\", 'theatre techniques', 'organise rehearsals', 'negotiate health and safety issues with third parties', 'promote health and safety', 'write risk assessment on performing arts production', 'coordinate with creative departments', 'coordinate technical teams in artistic productions']\n",
      "\n",
      "Essential skills for air traffic safety technician:\n",
      "['safety engineering', 'install electrical and electronic equipment', 'maintain electronic equipment', 'airport safety regulations', 'electrical systems used in transportation', 'airport electrical systems', 'common aviation safety regulations', 'electronics', 'technical drawings', 'aircraft flight control systems', 'air transport law', 'comply with air traffic control operations', 'surveillance radars', 'ensure aircraft compliance with regulation', 'use testing equipment']\n",
      "\n",
      "Optional skills for air traffic safety technician:\n",
      "['air traffic management', 'use technical drawing software', 'air traffic control operations', 'assess operating cost', 'test circuitry', 'test electrical equipment', 'address aircraft mechanical issues', 'install software', 'operate cockpit control panels', 'oversee quality control', 'debug software', 'perform aircraft maintenance', 'aircraft mechanics', 'inspect aircraft for airworthiness', 'types of aircraft', 'design control systems', 'global navigation satellite system performance parameters', 'electrical engineering', 'use meteorological information', 'design electrical systems', 'aviation meteorology', 'design electronic systems', 'manage air navigation services', 'ensure safety in international aviation']\n",
      "\n",
      "All skills for air traffic safety technician:\n",
      "['safety engineering', 'install electrical and electronic equipment', 'maintain electronic equipment', 'airport safety regulations', 'electrical systems used in transportation', 'airport electrical systems', 'common aviation safety regulations', 'electronics', 'technical drawings', 'aircraft flight control systems', 'air transport law', 'comply with air traffic control operations', 'surveillance radars', 'ensure aircraft compliance with regulation', 'use testing equipment', 'air traffic management', 'use technical drawing software', 'air traffic control operations', 'assess operating cost', 'test circuitry', 'test electrical equipment', 'address aircraft mechanical issues', 'install software', 'operate cockpit control panels', 'oversee quality control', 'debug software', 'perform aircraft maintenance', 'aircraft mechanics', 'inspect aircraft for airworthiness', 'types of aircraft', 'design control systems', 'global navigation satellite system performance parameters', 'electrical engineering', 'use meteorological information', 'design electrical systems', 'aviation meteorology', 'design electronic systems', 'manage air navigation services', 'ensure safety in international aviation']\n",
      "\n",
      "All skills for air traffic safety technician:\n",
      "['advise on training courses', 'assist clients with personal development', 'facilitate job market access', 'provide career counselling', 'job market offers', 'provide assistance with job search', 'labour market', 'listen actively', \"identify clients' needs\", 'provide information on study programmes', 'monitor educational developments', 'encourage counselled clients to examine themselves', 'provide information on education financing', \"evaluate clients' progress\", 'counselling methods', 'curriculum objectives', 'coach clients', 'counsel clients', 'curriculum standards', 'labour legislation', 'application process', 'communicate with youth', \"communicate on the youth's well-being\", 'encourage students to acknowledge their achievements', 'assessment processes', 'psychological counselling methods', 'education law', 'counsel students', \"assess students' preliminary learning experiences\", 'write work-related reports', 'cooperate with education professionals', 'perform educational testing', 'liaise with educational staff', 'university procedures', 'organise projects to fill education needs', 'oversee extra-curricular activities', 'identify education needs', 'organise job search workshops', 'adult education', 'project management', 'provide information on school services', 'organise study information sessions', 'psychology', 'identify training needs']\n",
      "\n"
     ]
    }
   ],
   "source": [
    "# Get skills\n",
    "print('Essential skills for technical director:')\n",
    "print(skills.get_essential_skills(\"technical director\"))\n",
    "print()\n",
    "print('Essential skills for air traffic safety technician:')\n",
    "print(skills.get_essential_skills(\"air traffic safety technician\"))\n",
    "print()\n",
    "print('Optional skills for air traffic safety technician:')\n",
    "print(skills.get_optional_skills(\"air traffic safety technician\"))\n",
    "print()\n",
    "print('All skills for air traffic safety technician:')\n",
    "print(skills.get_all_skills(\"air traffic safety technician\"))\n",
    "print()\n",
    "print('All skills for air traffic safety technician:')\n",
    "print(skills.get_all_skills(\"career guidance advisor\"))\n",
    "print()"
   ]
  },
  {
   "cell_type": "code",
   "execution_count": 10,
   "metadata": {},
   "outputs": [
    {
     "name": "stdout",
     "output_type": "stream",
     "text": [
      "Essential skills for technical director:\n",
      "['deliver visual presentation of data', 'resource description framework query language', 'information extraction', 'establish data processes', 'execute analytical mathematical calculations', 'data models', 'perform data cleansing', 'develop data processing applications', 'interpret current data', 'build recommender systems', 'manage data collection systems', 'collect ICT data', 'design database scheme', 'query languages', 'report analysis results', 'visual presentation techniques', 'data mining', 'information categorisation', 'handle data samples', 'statistics', 'implement data quality processes', 'online analytical processing', 'normalise data', 'manage data', 'perform data mining', 'LINQ', 'define data quality criteria', 'manage ICT data classification', 'N1QL', 'data quality assessment', 'unstructured data', 'manage ICT data architecture', 'MDX', 'SPARQL', 'create data models', 'business intelligence', 'integrate ICT data', 'XQuery', 'LDAP']\n"
     ]
    }
   ],
   "source": [
    "# Get skills\n",
    "print('Essential skills for technical director:')\n",
    "print(skills.get_all_skills(\"data scientist\"))\n"
   ]
  },
  {
   "cell_type": "code",
   "execution_count": 11,
   "metadata": {},
   "outputs": [
    {
     "data": {
      "application/vnd.jupyter.widget-view+json": {
       "model_id": "3d7b11335add4fec8ab5ea96130cb9f8",
       "version_major": 2,
       "version_minor": 0
      },
      "text/plain": [
       "interactive(children=(Dropdown(description='occupation', options=('3D animator', '3D modeller', '3D printing t…"
      ]
     },
     "metadata": {},
     "output_type": "display_data"
    }
   ],
   "source": [
    "@interact(skill_type=['essential','optional','all'], occupation=sorted(occupation_set))\n",
    "def get_skills(occupation, skill_type):\n",
    "    \n",
    "    print()\n",
    "    print(f'{skill_type} skills for {occupation}:\\n')\n",
    "    print('- '+'\\n- '.join(skills.get_skills(occupation, skill_type)))"
   ]
  },
  {
   "cell_type": "markdown",
   "metadata": {},
   "source": [
    "### ISCO<a id='isco'></a>\n",
    "\n",
    "The ISCO (International Standard Classification of Occupations) system has four levels based on the number of digits in the code (with four digit codes being the most finely grained classification and first digit being the coarsest classification). The coarest classification with its top level groups is displayed in the table below. \n",
    "\n",
    "**Example**:\n",
    "Every occupation with an ISCO ID beginning with a `5` belongs to the *service and sales workers* group. The more refined ISCO ID of `52` represents *sales workers*, the even more refined ISCO ID of `521`  identifies *street and market salespersons* and the fine-grained 4-digit ISCO ID  `5211` represents *stall and market salespersons*.\n",
    "\n",
    "| ISCO top level | Occupation Group |\n",
    "| --- | --- |\n",
    "| 0 | Armed forces occupations |\n",
    "| 1 | Managers |\n",
    "| 2 | Professionals |\n",
    "| 3 | Technicians and associate professionals |\n",
    "| 4 | Clerical support workers |\n",
    "| 5 | Service and sales workers |\n",
    "| 6 | Skilled agricultural, forestry and fishery workers |\n",
    "| 7 | Craft and related trades workers |\n",
    "| 8 | Plant and machine operators and assemblers |\n",
    "| 9 | Elementary occupations |\n",
    "\n",
    "\n",
    "\n",
    "We load the ISCO IDs as instances of the **ISCO class for easier processing and comparison**. At this point, we also **add the missing initial 0** for the *Armed forces occupations*. The ISCO class has 4 attributes representing the 4 different ISCO levels and provides a similarity function for **computing the similarity of two ISCO IDs**."
   ]
  },
  {
   "cell_type": "code",
   "execution_count": 12,
   "metadata": {},
   "outputs": [
    {
     "name": "stdout",
     "output_type": "stream",
     "text": [
      "Corrected IDs\n",
      "0123\n",
      "4321\n",
      "4312\n",
      "\n",
      "Similarty based on ISCO levels\n",
      "0123 and 4321 --> 0\n",
      "4321 and 4312 --> 2\n"
     ]
    }
   ],
   "source": [
    "# ISCO instance examples\n",
    "occ_1 = ISCO('123')  # needs to be padded with 0\n",
    "occ_2 = ISCO('4321')\n",
    "occ_3 = ISCO('4312')\n",
    "\n",
    "print('Corrected IDs')\n",
    "print(occ_1)\n",
    "print(occ_2)\n",
    "print(occ_3)\n",
    "print()\n",
    "print('Similarty based on ISCO levels')\n",
    "print(occ_1, 'and', occ_2, '-->', occ_1.similarity(occ_2))\n",
    "print(occ_2, 'and', occ_3, '-->', occ_2.similarity(occ_3))"
   ]
  },
  {
   "cell_type": "markdown",
   "metadata": {},
   "source": [
    "### Helper Dictionaries\n",
    "\n",
    "Here we set up dictionaries for connecting occupations, skills and ISCO IDs. An occupation has exactly one ISCO ID, but an ISCO ID can be associated with several occupations. Each occupation and thus each ISCO (representing several occupations) has a specific skill set. Finally, a skill can be assosciated with a set of occupations and ISCOs.\n",
    "\n",
    "These dictionaries make it easier to map and collect information across occupations, skills and ISCOs.\n",
    "\n",
    "We also find skills with missing essential and/or optional skills. And we discover that **22% of all skills are not associated with any occupation or ISCO**."
   ]
  },
  {
   "cell_type": "code",
   "execution_count": 13,
   "metadata": {},
   "outputs": [
    {
     "name": "stdout",
     "output_type": "stream",
     "text": [
      "1 occupation with missing essential skill set:\n",
      "['specialist dentist']\n",
      "\n",
      "223 occupations with missing optional skill set:\n",
      "['agricultural machinery and equipment distribution manager', 'agricultural raw materials, seeds and animal feeds distribution manager', 'aircraft dispatcher', 'ammunition specialised seller', 'animal hydrotherapist'] ...\n",
      "\n",
      "Skills not associated with any ISCO/occupation: 22.0%\n",
      "['ABBYY FineReader', 'Absorb (learning management systems)', 'Adobe Photoshop Lightroom', 'Agile development', 'Agile project management'] ...\n"
     ]
    }
   ],
   "source": [
    "# Initialize skill dicts\n",
    "link_dict, missing_dict = data_mapping.get_data_links(occupations_df, skills_df)\n",
    "\n",
    "\n",
    "print('{} occupation with missing essential skill set:'.format(len(missing_dict['occ_with_miss_essent_skills'])))\n",
    "print(missing_dict['occ_with_miss_essent_skills'])\n",
    "print()\n",
    "\n",
    "print('{} occupations with missing optional skill set:'.format(len(missing_dict['occ_with_miss_opt_skills'])))\n",
    "print(missing_dict['occ_with_miss_opt_skills'][:5], '...')\n",
    "print()\n",
    "\n",
    "# Get skills with missing ISCO dicts\n",
    "ratio_missing_isco_skills = round(len(missing_dict['skills_with_miss_ISCO'])/len(skill_set),2)*100\n",
    "print('Skills not associated with any ISCO/occupation: {}%'.format(ratio_missing_isco_skills))\n",
    "print(missing_dict['skills_with_miss_ISCO'][:5], '...')"
   ]
  },
  {
   "cell_type": "code",
   "execution_count": 14,
   "metadata": {},
   "outputs": [
    {
     "name": "stdout",
     "output_type": "stream",
     "text": [
      "Get all occupations and ISCO IDs that require 'manage staff'\n",
      "\n",
      "['ICT help desk manager', 'ICT operations manager', 'ICT project manager', 'ICT research manager', 'accommodation manager']\n",
      "[<skills_taxonomy.pipeline.data_mapping.ISCO object at 0x7fa9e9192eb0>, <skills_taxonomy.pipeline.data_mapping.ISCO object at 0x7faa13028ac0>, <skills_taxonomy.pipeline.data_mapping.ISCO object at 0x7faa13028e80>, <skills_taxonomy.pipeline.data_mapping.ISCO object at 0x7faa13028460>, <skills_taxonomy.pipeline.data_mapping.ISCO object at 0x7faa13038640>]\n",
      "\n",
      "Get occupation titles and skills for ISCO ID 7214\n",
      "\n",
      "['dismantling worker', 'riveter', 'shipwright', 'structural ironworker']\n",
      "['prepare ground for construction', 'use power tools', 'secure heavy construction equipment', 'follow health and safety procedures in construction', 'construct working platform']\n",
      "\n",
      "Get skills and ISCO ID for given occupation\n",
      "\n",
      "2511\n",
      "['deliver visual presentation of data', 'resource description framework query language', 'information extraction', 'establish data processes', 'execute analytical mathematical calculations']\n"
     ]
    }
   ],
   "source": [
    "print(\"Get all occupations and ISCO IDs that require 'manage staff'\")\n",
    "print()\n",
    "print(link_dict['skill_to_occup']['manage staff'][:5])\n",
    "print(link_dict['skill_to_ISCO']['manage staff'][:5])\n",
    "print()\n",
    "print('Get occupation titles and skills for ISCO ID 7214')\n",
    "print()\n",
    "print(link_dict['ISCO_to_occup']['7214'])\n",
    "print(link_dict['ISCO_to_skill']['7214'][:5])\n",
    "print()\n",
    "print('Get skills and ISCO ID for given occupation')\n",
    "print()\n",
    "print(link_dict['occup_to_ISCO']['data scientist'])\n",
    "print(link_dict['occup_to_skill']['data scientist'][:5])"
   ]
  },
  {
   "cell_type": "markdown",
   "metadata": {},
   "source": [
    "### Skills for Top Levels Occupation Groups\n",
    "\n",
    "Here we show how to retrieve the skill sets for top level occupation groups, e.g. *Managers*, *Service and sales workers* and *Craft and related trades workers*. Select a group of interest and the essential skills needed for occupations in this group are returned."
   ]
  },
  {
   "cell_type": "code",
   "execution_count": 15,
   "metadata": {},
   "outputs": [
    {
     "name": "stdout",
     "output_type": "stream",
     "text": [
      "Skills for 2:\n",
      "\n",
      "['aerospace engineering', 'analyse experimental laboratory data', 'analyse scientific data', 'analyse telescope images', 'apply scientific methods', 'apply statistical analysis techniques', 'astronomy', 'carry out scientific research in observatory', 'define celestial bodies', 'design scientific equipment', 'execute analytical mathematical calculations', 'gather experimental data', 'laboratory techniques', 'mathematics', 'observe celestial objects', 'operate scientific measuring equipment', 'operate telescopes', 'perform laboratory tests', 'perform scientific research', 'physics', 'quantum mechanics', 'quantum optics', 'scientific research methodology', 'statistics', 'use measurement instruments']\n"
     ]
    }
   ],
   "source": [
    "# Set group of interest\n",
    "sector_of_interest = \"Craft and related trades workers\"\n",
    "sector_of_interest = 2\n",
    "\n",
    "# Get skills for sector\n",
    "sector_skills = data_mapping.get_skills_for_sector(sector_of_interest, isco_set, link_dict['ISCO_to_skill'])\n",
    "\n",
    "# Print example\n",
    "print(\"Skills for {}:\\n\".format(sector_of_interest))\n",
    "print(sector_skills[:25])"
   ]
  },
  {
   "cell_type": "markdown",
   "metadata": {},
   "source": [
    "## Visualizing Data<a id='visual'></a>\n",
    "[[back to top]](#top)\n",
    "\n",
    "    - Initial visualization of occupations with ISCO similarity\n",
    "    - Reduced ISCO graph for understanding ISCO structure\n",
    "    - Full directed ISCO graph for further computation\n",
    "\n",
    "In this section, we visualize the occupations and ISCO hierachy to gain a better understanding of the data and find a good representation of the ISCO structure."
   ]
  },
  {
   "cell_type": "markdown",
   "metadata": {},
   "source": [
    "### First Visualization of Occupations\n",
    "\n",
    "As a first visualization, we plot a subset of 100 occupations. The node colors represent the different top levels. The edge width shows show similar two occupations are according to their ISCO ID.\n",
    "\n",
    "This graph shows a selection of occupations, **losely clustered by top level occupation group**. Nodes from the same cluster/top level naturally have **stronger connections since their ISCO ID is similar**. As an example, the occupations *gunsmith* and *tool and die maker* are very similar and thus show a strong edge width. Occupations of different top level groups show no connection at all.\n",
    "\n",
    "The ISCO structure is not obvious in this graph since the ISCO similarity is only shown weakly in form of the edge widths. For better inspection of the ISCO hierarchy, we have to generate a tree graph."
   ]
  },
  {
   "cell_type": "markdown",
   "metadata": {},
   "source": [
    "### ISCO Graph (reduced)\n",
    "\n",
    "This ISCO graph represents the ISCO levels and occupations as a circular tree. We only consider 100 occupations in this visualization to keep it readable. For the same reason, we only display one occupation per ISCO ID. The node colors represent the top level occupation groups.\n",
    "\n",
    "The complete ISCO tree with all occupations is generated further down."
   ]
  },
  {
   "cell_type": "code",
   "execution_count": 16,
   "metadata": {},
   "outputs": [
    {
     "ename": "AttributeError",
     "evalue": "module 'skills_taxonomy.utils.plotting' has no attribute 'get_ISCO_node_colors'",
     "output_type": "error",
     "traceback": [
      "\u001b[0;31m---------------------------------------------------------------------------\u001b[0m",
      "\u001b[0;31mAttributeError\u001b[0m                            Traceback (most recent call last)",
      "\u001b[0;32m<ipython-input-16-cf888075cf6e>\u001b[0m in \u001b[0;36m<module>\u001b[0;34m\u001b[0m\n\u001b[1;32m     10\u001b[0m \u001b[0;34m\u001b[0m\u001b[0m\n\u001b[1;32m     11\u001b[0m \u001b[0;31m# Get node colors\u001b[0m\u001b[0;34m\u001b[0m\u001b[0;34m\u001b[0m\u001b[0;34m\u001b[0m\u001b[0m\n\u001b[0;32m---> 12\u001b[0;31m \u001b[0mnode_colors\u001b[0m \u001b[0;34m=\u001b[0m \u001b[0mplotting\u001b[0m\u001b[0;34m.\u001b[0m\u001b[0mget_ISCO_node_colors\u001b[0m\u001b[0;34m(\u001b[0m\u001b[0mG_ISCO_red\u001b[0m\u001b[0;34m,\u001b[0m \u001b[0mlink_dict\u001b[0m\u001b[0;34m[\u001b[0m\u001b[0;34m\"occup_to_ISCO\"\u001b[0m\u001b[0;34m]\u001b[0m\u001b[0;34m)\u001b[0m\u001b[0;34m\u001b[0m\u001b[0;34m\u001b[0m\u001b[0m\n\u001b[0m\u001b[1;32m     13\u001b[0m \u001b[0;34m\u001b[0m\u001b[0m\n\u001b[1;32m     14\u001b[0m \u001b[0;31m# Set figure size\u001b[0m\u001b[0;34m\u001b[0m\u001b[0;34m\u001b[0m\u001b[0;34m\u001b[0m\u001b[0m\n",
      "\u001b[0;31mAttributeError\u001b[0m: module 'skills_taxonomy.utils.plotting' has no attribute 'get_ISCO_node_colors'"
     ]
    }
   ],
   "source": [
    "# Only process occupations with essential skills\n",
    "occupations_to_process = [occ for occ in occupation_set if occ not in missing_dict['occ_with_miss_essent_skills']\n",
    "        ]\n",
    "\n",
    "# Create ISCO graph\n",
    "G_ISCO_red = ISCO_graphs.create_circular_ISCO_graph(occupations_to_process, \n",
    "                                                                      link_dict, \n",
    "                                                                      reduced_occupation_set=True,\n",
    "                                                                      only_one_leaf_node=True)\n",
    "\n",
    "# Get node colors\n",
    "node_colors = plotting.get_ISCO_node_colors(G_ISCO_red, link_dict[\"occup_to_ISCO\"])\n",
    "\n",
    "# Set figure size\n",
    "plt.figure(figsize=(20,20))\n",
    "plt.axis(\"equal\")\n",
    "\n",
    "# Get circular tree shape\n",
    "circular_pos = graphviz_layout(G_ISCO_red, prog=\"twopi\", args=\"\")\n",
    "\n",
    "\n",
    "# Draw graph\n",
    "nx.draw(G_ISCO_red, circular_pos, node_size=500, alpha=0.8, node_color=node_colors, \n",
    "        cmap=cm.Paired, with_labels=True)\n",
    "\n",
    "\n",
    "plt.show()\n",
    "\n",
    "\n",
    "# Save figure\n",
    "plotting.save_fig(plt, 'ISCO_graph_reduced')"
   ]
  },
  {
   "cell_type": "markdown",
   "metadata": {},
   "source": [
    "### Analysis\n",
    "\n",
    "This graph shows the ISCO structure with its four levels. **Inner levels represent more general** ISCO IDs, **outer levels more specific** ones (1 digit in the center to 4 digits in the outer layer). The outermost nodes show one **example occupation** for the given 4-digit ISCO. The nodes are **colored by their top level** occupation groups, which is equal to the first digit in the ISCO. More information about ISCO and the respective top level category names can be found [here](#isco).\n",
    "\n",
    "Only a fraction of the data is loaded by default so the number of nodes per top level category is not representative. However, this graph gives an idea of the diversity of each category shows some examples.\n",
    "\n",
    "If the variable `complete_occ_set` is set to True, we can inspect the entire ISCO graph with all occupations and ISCO IDs, which is not as readable but represents all the data. The top level ***Armed forces occupations* (0) clearly has the smallest number** of ISCO IDS, followed by *Skilled agricultural, forestry and fishery workers* (6). This means that there are fewer occupations in those categories, which are possibly also less diverse.\n",
    "\n",
    "The top levels ***Professionals* (2), *Technicians and assosciate professionals* (3) and *Craft and related trades workers* (7) have the widest array of occupations** and cover together more than half of the circular tree. Occupations in the top level *Professionals* range from *electian observer* to *ICT teacher*. For *Technicians and assosciate professionals*, occupations include *dental hygienist*, *police inspector* and *audio-visual technician*. The top level *Craft and related trades workers* ranges from *carper weaver* to *mining equipment mechanic*.\n",
    "\n",
    "We learn that the different top levels are **unevenly distributed** across the ISCO structure. \n",
    "\n",
    "Note that the number of ISCO nodes does not necessarily represent the number of occupations associated with the top level category. However, further down we count the **number of occupations** for each category and find that it is **strongly correlated with the number of ISCO nodes**. *Armed forces occupations* and *Skilled agricultural, forestry and fishery workers* do indeed have the smallest occuaption set, while  *Professionals*, *Technicians and assosciate professionals* and *Craft and related trades workers* clearly hold the largest number of different occupations."
   ]
  },
  {
   "cell_type": "markdown",
   "metadata": {},
   "source": [
    "### ISCO Graph (full)\n",
    "\n",
    "Here we compute the full directed ISCO graph with all occupations. It will help us compute the TF-IDF scores later on."
   ]
  },
  {
   "cell_type": "code",
   "execution_count": null,
   "metadata": {},
   "outputs": [],
   "source": [
    "# Create ISCO graph\n",
    "G_ISCO_full = ISCO_graphs.create_circular_ISCO_graph(occupations_to_process, \n",
    "                                                                      link_dict, \n",
    "                                                                      reduced_occupation_set=False,\n",
    "                                                                      only_one_leaf_node = False\n",
    "                                                                          )\n",
    "\n",
    "# Get node colors\n",
    "node_colors =  plotting.get_ISCO_node_colors(G_ISCO_full, link_dict[\"occup_to_ISCO\"])\n",
    "\n",
    "# Set figure size\n",
    "plt.figure(figsize=(20, 20))\n",
    "plt.axis(\"equal\")\n",
    "\n",
    "# Get circular tree shape\n",
    "circular_pos = graphviz_layout(G_ISCO_full, prog=\"twopi\", args=\"\")\n",
    "node_labels = {label:label if len(label) <=4 else  '' for label in G_ISCO_full.nodes}\n",
    "\n",
    "# Draw graph\n",
    "nx.draw(G_ISCO_full, circular_pos, node_size=400, alpha=0.5,  node_color=node_colors, \n",
    "        cmap=cm.Paired, with_labels=True, labels=node_labels)\n",
    "\n",
    "# Save figure\n",
    "plotting.save_fig(plt, 'ISCO_graph_complete')"
   ]
  },
  {
   "cell_type": "code",
   "execution_count": null,
   "metadata": {},
   "outputs": [],
   "source": [
    "print('Number of occupations by top level category')\n",
    "print('-------------')\n",
    "for key in ISCO_graphs.ID_top_level_dict.keys():   \n",
    "    print(\"{} ({}): {}\".format(ISCO_graphs.ID_top_level_dict[key], \n",
    "                               str(key), \n",
    "                               ISCO_graphs.get_n_leaf_nodes(G_ISCO_full, str(key))))"
   ]
  },
  {
   "cell_type": "markdown",
   "metadata": {},
   "source": [
    "### Analysis \n",
    "\n",
    "This graph represents the full ISCO graph as a circular tree structure. We do not show the labels for reasons of readability. It shows nicely that **each 4-digit ISCO** (second outermost level) has its own **set of occupations** and that they can take different sizes."
   ]
  },
  {
   "cell_type": "markdown",
   "metadata": {},
   "source": [
    "## Feature Engineering<a id='feat'></a>\n",
    "[[back to top]](#top)\n",
    "\n",
    "- Compute number of leaf nodes for given node\n",
    "- Compute term frequency\n",
    "- Compute document frequency\n",
    "- Compute tf-idf feature array\n",
    "\n",
    "\n",
    "We want to find a way to compare and cluster the skills required for the various occupations. Since we have the ISCO structure and skills for each occupation and thus for each ISCO ID, we want to **compute the skill distribution over the entire ISCO graph**. We assume the following: if a skill is required for an occupation, then the skill is relevant for the occupation's ISCO ID - and to some extent also to the upper levels of this ISCO ID. \n",
    "\n",
    "If a specific skill A is required for an occupation with the ISCO ID `5123` but also for another occupation with the ISCO ID `5125`, then there are already two indicators for relevance of this skill at the ISCO node `512`. Very specific skills would only show high frequeuncy on the outer ISCO levels but not on the inner levels, while general skills are expected to be prevalent in the inner nodes as well. Specific skills would also appear more locally, while general skills are expected to be more distributed across the ISCO graph. \n",
    "\n",
    "### TF-IDF\n",
    "\n",
    "We need to **measure how specific or general a given skill is and how much it required for each ISCO node**. This task is similar to the task of determining the relevance of a word in a document, with regards to its use in the entire set of documents. This common NLP task is usually resolved with the statistical method [tf-idf](https://en.wikipedia.org/wiki/Tf%E2%80%93idf). *tf* stands for **term frequency**, *idf* stands for **inversed document frequency**. The *tf* reprents the frequency of a the word in the given document, while the *df* represents in how many documents this word appears. Thus, the *inversed df* gives higher relevance to words that are not very general and only occur in few documents.\n",
    "\n",
    "In our case, the *term frequency* represents the **frequency of a specific skill requirement at any ISCO node**. Using the example above, skill A is relevant for two occupations leading up to ISCO node `512`. The frequency is computed by counting the occurences (i.e. 2) and diving it by the highest possible count, i.e. the number of leaf nodes for ISCO node `512` (all downstream occupation nodes at the outermost level). The **term frequency measures how relevant a skill is at given ISCO node** in comparison to other skills.\n",
    "\n",
    "The *document frequency* represents here the **number of ISCO nodes that are affected by the skill requirement**. The additional association of skill A with ISCO ID `5123` affects the following nodes at different levels: `5123`, `512`, `51`, `5`. The association with `5125` adds only one new node to this set: `5125` itself. Thus, if skill A is spread more widely over the ISCO graph and is required for occupations with ISCO IDs of various top level categories, the document frequency will be higher than if the skill only affects occupations in the same part of the ISCO graph. Thus, the **document frequency computes how widely applicable or required a specific skill is across the ISCO graph**, with higher values indicating more general skills and lower values more specific skills.\n",
    "\n",
    "For the computation of the **tf-idf**, we use the *inversed document frequency* in order to give more weight to specific skills. If a skill is very general, it should not affect the ISCO node as much. Thus, the *tf-idf* in regards to the skill distribution over the ISCO graph measures **how relevant a skill is at a given ISCO node**."
   ]
  },
  {
   "cell_type": "markdown",
   "metadata": {},
   "source": [
    "### Computing Number of Leaf Nodes and Term Frequency\n",
    "\n",
    "Here we present two helper functions. One computes the number of leaf nodes for a given node in graph. It also helps with counting the numer of occupations per top level category.\n",
    "\n",
    "The other function computes the term frequency of a skill in the ISCO graph."
   ]
  },
  {
   "cell_type": "code",
   "execution_count": null,
   "metadata": {},
   "outputs": [],
   "source": [
    "print('Leaf nodes for node 325:\\t', ISCO_graphs.get_n_leaf_nodes(G_ISCO_full, '325'))\n",
    "print('TF for node 73:\\t\\t\\t', ISCO_graphs.get_tf(G_ISCO_full, '73', 'operate engraving equipment', link_dict[\"occup_to_skill\"]))"
   ]
  },
  {
   "cell_type": "markdown",
   "metadata": {},
   "source": [
    "### Preparing ISCO Features\n",
    "\n",
    "Here we make preparations for the feature array. We have as many features as there are non-zero out-degree nodes (occupation nodes) in the ISCO graphs or, put more simply, the number of ISCO IDs plus their upper level nodes. \n",
    "We generate a dictionary for easily **mapping the ISCO node label to the respective index** in the feature array."
   ]
  },
  {
   "cell_type": "code",
   "execution_count": null,
   "metadata": {},
   "outputs": [],
   "source": [
    "# Map ISCO nodes to feature indices (for matching later)\n",
    "ISCO_idx_dict, ISCO_nodes_dict, ISCO_level_n_dict = ISCO_graphs.map_ISCO_nodes_to_feat_indices(isco_set)"
   ]
  },
  {
   "cell_type": "markdown",
   "metadata": {},
   "source": [
    "### Computing TF-IDF\n",
    "\n",
    "Here we **compute the tf-idf for each skill at any node** in the ISCO graph. We **exclude the 20% of skills** that have no occupations/ISCO IDs associated with it since they would result in zero-only features.\n",
    "\n",
    "For each skill, we first get all occupations that require the skill and all ISCO IDs for those occupations. For each ISCO ID, we then retrieve all four level ISCO nodes and the repsective indices in the feature array. For each node we compute the *term frequency* by computing **how many leaf nodes (occupations) a given ISCO node has and how many of them require that skill**. We also mark that this **node was affected by this skill** for computing the document frequency.\n",
    "\n",
    "Finally, we compute the *tf-idf* for each skill at each node.\n",
    "\n",
    "By default, we use the **precomputed** and saved numpy arrays for *tf-idf* and *document frequency*. For re-computation after altering the code, set `pre_computed` to False. The new results are saved automatically."
   ]
  },
  {
   "cell_type": "code",
   "execution_count": null,
   "metadata": {},
   "outputs": [],
   "source": [
    "# Set skills of interest (exclude those without associated ISCO)\n",
    "skills_of_interest = [skill for skill in skill_set if skill not in missing_dict['skills_with_miss_ISCO']]\n",
    "n_ISCO_nodes = ISCO_level_n_dict[4]\n",
    "        \n",
    "# Get tf-idf and df scores\n",
    "tf_idf, df_dict = ISCO_graphs.compute_tf_idf(skills_of_interest, n_ISCO_nodes, \n",
    "                                             G_ISCO_full, ISCO_idx_dict, \n",
    "                                             link_dict, pre_computed=True)    "
   ]
  },
  {
   "cell_type": "markdown",
   "metadata": {},
   "source": [
    "### Visualisation of TF-IDF Scores\n",
    "\n",
    "In this circular ISCO graph, we visualise the TF-IDF score for a given skill (i.e. *manage staff*) by coloring ISCO nodes with a high TF-IDF score in darker red and nodes with low TF-IDF scores in lighter red to white. \n",
    "\n",
    "The graph shows nicely that the skill *manage staff* is most prominent in the the Sector *Managers*, as most of the dark red colored nodes can be found in nodes connected to that branch. Some occupations in other sectors may also require this skill but it's most common among in managing roles.\n",
    "\n",
    "This combiantion of TF-IDF scores and the circular tree graph for the ISCO levels (and a possible extension thereof) can provide interesting insights into skills and the sectors they are required in. "
   ]
  },
  {
   "cell_type": "code",
   "execution_count": null,
   "metadata": {},
   "outputs": [],
   "source": [
    "# Visualise tf-idf scores across ISCO graph\n",
    "clustering.visualise_tf_idf_for_skill(G_ISCO_full, tf_idf, ISCO_nodes_dict[4], skills_of_interest, 'manage staff')"
   ]
  },
  {
   "cell_type": "markdown",
   "metadata": {},
   "source": [
    "## Clustering<a id='cluster'></a>\n",
    "[[back to top]](#top)\n",
    "\n",
    "    - Reduce feature set\n",
    "    - Scale features (MinMaxScaler)\n",
    "    - Dimensionality reduction using LSA\n",
    "    - k-means clustering\n",
    "    - Load skills data and inspect clusters\n",
    "\n",
    "Now we want to cluster our skills according to the extracted *tf-idf* features. But first we have to load our data and reduce the feature space.\n",
    "\n",
    "### Issue: High Dimensionality\n",
    "Since we are facing a high-dimensional feature space, we first perform dimensionality reduction. One simple way of reducing the feature space is discarding the features of the most specific ISCO levels, leaving only the features for the **three more general levels**. This reduces feature space from 603 to 177.\n",
    "\n",
    "As a second step, we perform dimensionality reduction using truncated SVD, also known as **[LSA](https://scikit-learn.org/stable/modules/generated/sklearn.decomposition.TruncatedSVD.html) (latent semantic analysis)**. Contrary to PCA, it works **effectively on sparse matrices** and works especially well on **count-based matrices** - which is excatly what we need!\n",
    "\n",
    "Alternatively, we implemented the PCA reduction, keeping the number of components relevant for an explained variance ratio of 90%. However, the LSA reduction is more suitable in this case. \n"
   ]
  },
  {
   "cell_type": "markdown",
   "metadata": {},
   "source": [
    "### Loading, Reducing and Scaling the features\n",
    "\n",
    "We load the features, remove the outermost ISCO level features and scale our dating using a Min-Max-Scaler."
   ]
  },
  {
   "cell_type": "code",
   "execution_count": null,
   "metadata": {},
   "outputs": [],
   "source": [
    "print('Feature space before discarding outer level:', tf_idf.shape[1])\n",
    "\n",
    "# Only retrieve features for first three ISCO levels\n",
    "n_ISCO_up_to_3rd_level = ISCO_level_n_dict[3]\n",
    "tf_idf_red = tf_idf[:, :n_ISCO_up_to_3rd_level]\n",
    "\n",
    "print('Feature space after discarding outer level:', tf_idf_red.shape[1])\n",
    "\n",
    "# Scale features\n",
    "scaler = preprocessing.MinMaxScaler()\n",
    "tf_idf_scaled = scaler.fit_transform(tf_idf_red)"
   ]
  },
  {
   "cell_type": "markdown",
   "metadata": {},
   "source": [
    "### Explained Variance\n",
    "\n",
    "\n",
    "We plot the explained variance ratio for the transformed data. "
   ]
  },
  {
   "cell_type": "markdown",
   "metadata": {},
   "source": [
    "### Dimensionality Reduction with PCA and LSA\n",
    "\n",
    "We transform our feature set with PCA and LSA in order to reduce dimensionality. For PCA we use the number of components (97) that cover 90 percent of the explained variance ratio. For LSA we use 90 components since they cover a similar ratio."
   ]
  },
  {
   "cell_type": "code",
   "execution_count": null,
   "metadata": {},
   "outputs": [],
   "source": [
    "# Dimensionality reduction widget\n",
    "dim_red_technique_widget = Dropdown(\n",
    "    options=['LSA', 'PCA'],\n",
    "    value='LSA',\n",
    "    description='Dim. reduction technqiue:'\n",
    ")\n",
    "\n",
    "def get_dim_features(dim_red_technique):\n",
    "    \"\"\"Apply dimensionality reduction with either LSA or PCA.\"\"\"\n",
    "    \n",
    "    if dim_red_technique == 'LSA':\n",
    "        dim_reduced_features = clustering.dimensionality_reduction(tf_idf_scaled, \n",
    "                                                           dim_red_technique=\"lsa\", \n",
    "                                                           lsa_n_comps=90,\n",
    "                                                           random_state=42) \n",
    "    else:\n",
    "        dim_reduced_features = clustering.dimensionality_reduction(tf_idf_scaled, \n",
    "                                                           dim_red_technique=\"pca\", \n",
    "                                                           pca_expl_var_ratio=0.90,\n",
    "                                                           random_state=42)\n",
    "        \n",
    "    return dim_reduced_features\n",
    "\n",
    "\n",
    "\n",
    "# Dimensioanlity reduction \n",
    "dim_reduced_features = interactive(get_dim_features, dim_red_technique=dim_red_technique_widget)\n",
    "display(dim_reduced_features)\n",
    "dim_reduced_features = dim_reduced_features.result\n",
    "\n",
    "print(\"Feature space before reduction:  {}\".format(tf_idf_scaled.shape[1]))\n",
    "print(\"Feature space after reduction:  {}\".format(dim_reduced_features.shape[1]))"
   ]
  },
  {
   "cell_type": "markdown",
   "metadata": {},
   "source": [
    "### K-means Clustering\n",
    "\n",
    "Then we finally get to the clustering. We apply **k-means clustering** and set the **number of clusters to 15**, as we do not want too many different clusters for building our taxonomy. The plot shows that the formed clusters are not very clearly seperable but this is not unexpected for such a diverse and overlapping set of skills."
   ]
  },
  {
   "cell_type": "code",
   "execution_count": null,
   "metadata": {},
   "outputs": [],
   "source": [
    "# Apply k-means clustering\n",
    "N_CLUSTERS = 15\n",
    "kmeans = clustering.k_means_clustering(dim_reduced_features, n_clusters=N_CLUSTERS)"
   ]
  },
  {
   "cell_type": "markdown",
   "metadata": {},
   "source": [
    "### Loading Skills with Cluster ID as Dataframe\n",
    "\n",
    "Now that each skill is assigned to a cluster, we load the skills in a new dataframe together with all the collected information about skills.\n",
    "\n",
    "We rank the skills by their document frequency (DF) and display the head and tail of the list for comparison. The **skills with high DF are - as expected - very general**, for instance *create solutions to problems* or *manage staff* or *listen actively*, while the **skills with low DF are more specific**, such as *administer multi-modal logistics* or *XQuery* or *split animal carcasses*. Therefore, we conclude that DF measures what we expected it to measure: the generality of the skill."
   ]
  },
  {
   "cell_type": "code",
   "execution_count": null,
   "metadata": {},
   "outputs": [],
   "source": [
    "# Get upated skill df\n",
    "updated_skill_df, skill_mapping_dicts = clustering.get_updated_skill_df(skills_df, skills_of_interest, df_dict, kmeans)\n",
    "updated_skill_df.head(80)"
   ]
  },
  {
   "cell_type": "markdown",
   "metadata": {},
   "source": [
    "### Cluster Analysis\n",
    "\n",
    "Below we see a selection of skills for each of the 15 clusters. **Skills for similar occupations often seem to be clustered together**, as expected when using the ISCO graph for feature engineering. We would have hoped for one or two clusters with more general skills (e.g. *manage staff*, *create solutiosn to problems*) but they seem to be intermixed with other more specific skills. In general, the clusters seem to contain **meaningful** sets of skill. We have to use the DF for identifying general skills.\n",
    "It would be interesting to investigate to what extent the clusters include skills asscociated with different top level categories. Unfortunately, we did not manage due to time constraints.\n",
    "\n",
    "Here are some examples for the different clusters:\n",
    "\n",
    "**Cluster 2** is a collection of skills used when working animals, e.g. *assess animal behaviour* or *prescribe physical therapy to animals* or *certify the performance of veterinary procedures*.\n",
    "\n",
    "**Cluster 7** contains skill connected to fishing and farming, e.g. *stock fish into holding units* or *prepare planting area for planting*.\n",
    "\n",
    "**Cluster 8** collect teaching skills, e.g. *curriculum objectives* or *adapt teaching to student's capabilities*.\n",
    "\n",
    "**Cluster 10** contains sales skills, e.g. *characteristics of products* or *monitor stock level* or *organise product display*.\n",
    "\n",
    "**Cluster 13** consists of logistic skills, e.g. *manage truck drivers*, *supervise unloading of cargo* and *health and safety measures in transportation*."
   ]
  },
  {
   "cell_type": "code",
   "execution_count": null,
   "metadata": {},
   "outputs": [],
   "source": [
    "# Print clusters and their skills\n",
    "for cluster in range(N_CLUSTERS):\n",
    "    print('Cluster', cluster)\n",
    "    print(skill_mapping_dicts['cluster to skill'][cluster][:20])\n",
    "    print()"
   ]
  },
  {
   "cell_type": "markdown",
   "metadata": {},
   "source": [
    "## Taxonomy Creation<a id='tax'></a>\n",
    "[[back to top]](#top)\n",
    "\n",
    "    - Embed skill descriptions using word embeddings\n",
    "    - Compute cosine similarity\n",
    "    - Find most similar skills by description    \n",
    "    - Use document frequency for ranking skills\n",
    "    - Build taxonomy branches\n",
    "    - Inspect results\n",
    "\n",
    "Finally, we build a new **skill taxonomy**. We divide the skills by their clusters and process the sets independently. We find the **two most similar skills** for each skill by computing the **cosine similarity of the word embeddings of their skill description**. We then use the **document frequency (DF) for ranking** the skills by generality and **generating new taxonomy branches**, e.g. signs of animal illness --> monitor the welfare of animals --> advise on animal welfare.\n",
    "\n",
    "\n",
    "### Word Embeddings\n",
    "\n",
    "For the embedding of the descriptions, we use pretrained `word2vec` with 300 dimensions. We only consider the tokens in the description that are **nouns, verbs or adjectives**, as they are most descriptive. We retrieve the embedding those tokens (lemmatized if not found otherwise) and compute the **mean over all word embeddings** as the representation of the entire description."
   ]
  },
  {
   "cell_type": "code",
   "execution_count": null,
   "metadata": {},
   "outputs": [],
   "source": [
    "# Load word2vec model\n",
    "WORD2VEC = word_embeddings.load_word2vec()"
   ]
  },
  {
   "cell_type": "markdown",
   "metadata": {},
   "source": [
    "### Finding Taxonomy Branches\n",
    "\n",
    "For each skill cluster, we find new taxonomy branches. Note that we do not intermix skills for different clusters. For each skill, we find the **two most similar skills by computing the cosine similarity of the word embeddings of their descriptions**. Then, we **rank the skill triple** (the original skill and the two similar skills) **by descending document frequency**, leaving the more general skills first and the more specific skills last.\n",
    "\n",
    "If the skills have different DFs, we return add them as a **new branch to the taxonomy**. If two skills have the same DF, we consider them as similar and add them as **skill snyonyms to the taxonomy**."
   ]
  },
  {
   "cell_type": "code",
   "execution_count": null,
   "metadata": {},
   "outputs": [],
   "source": [
    "# Set clusters of interest\n",
    "clusters_of_interest = [2, 4, 8, 10]\n",
    "\n",
    "# Retrieve skill hierarchy and syonym branches\n",
    "skill_hierarchy, synonym_skills = build_taxonomy_branches.get_skill_tax_branches(clusters_of_interest, \n",
    "                                                                                  updated_skill_df, \n",
    "                                                                                  df_dict, \n",
    "                                                                                  skill_mapping_dicts['desc to skill'], \n",
    "                                                                                  WORD2VEC=WORD2VEC)"
   ]
  },
  {
   "cell_type": "code",
   "execution_count": null,
   "metadata": {},
   "outputs": [],
   "source": [
    "# Print examples\n",
    "print('Taxonomy branch examples:\\n')\n",
    "for skills in skill_hierarchy[:25]:\n",
    "    print(' --> '.join(skills))"
   ]
  },
  {
   "cell_type": "code",
   "execution_count": null,
   "metadata": {
    "scrolled": false
   },
   "outputs": [],
   "source": [
    "# Print synonym skill examples\n",
    "for skills in synonym_skills[:25]:\n",
    "    print(' <--> '.join(skills))"
   ]
  },
  {
   "cell_type": "markdown",
   "metadata": {},
   "source": [
    "### Taxonomy Branches\n",
    "\n",
    "Above we see a selection of proposed taxonomy branches. Some are quite reasonable while others are not yet ideal. Needless to say, **these taxonomy branches should be further refined and more carefully selected**. This is merely a prototype. However, it shows the **potential for a meaningful skill taxonomy**.\n",
    "\n",
    "\n",
    "Here are some good examples:\n",
    "```\n",
    "art history --> understand artistic concepts\n",
    "maintain audiovisual equipment --> perform technical sound check --> manage sound quality\n",
    "signs of animal illness --> monitor the welfare of animals --> advise on animal welfare\n",
    "process payments --> issue sales invoices --> operate cash register\n",
    "observe student's progress --> adapt teaching to student's capabilities --> assess students\n",
    "\n",
    "```\n",
    "*Art history* is more general than *understanding artistic concepts*. *Mainining audiovisual equipment* is a more general skill than *performing technical sound check* or even *managing sound quality*. As for the third example, one has to know the *signs of animal illness* before one can *monitor the welfare of animals* or give *advice on animal welfare*. *Processing payments* is more general than *issueing sales invoices* or more specifically *operating the cash register*. And finally, *oberserving student's progess* is a pre-step to *adapting teaching to sutdent's capabilities* and *assessing students*.\n",
    "\n",
    "Here are some bad examples:\n",
    "\n",
    "```\n",
    "translate artistic concepts to technical designs --> understand artistic concepts --> develop design ideas cooperatively\n",
    "labour legislation --> adapt to type of media --> confer on artwork\n",
    "perform gross post mortem examination on animals --> advise on livestock disease control\n",
    "assist students in their learning --> perform classroom management -->  liaise with educational staff\n",
    "```\n",
    "\n",
    "*Understanding artistic concepts* should be more general than *translating artistic concepts to technical designs*. The *developing of design ideas cooperatively*, however, seems to be a valid subskill for *understanding artistic concepts*.  The skills in the second example do not even seem to fit together well, same as for the third example. The final examples show three skills of the same category but since they are all very vague it is hard to assess whether this triple is reasonable.\n",
    "\n",
    "Most of the time, the triples are represent skills from the same field, so the **clustering and cosine similarity can be considered successful**. However, they are often **not direct descendants** of each other, even if differently orderd. Therefore, the **main challenge is finding skills are that actually related in a hierarchical way**. The word embeddings of the skill descriptions may not be the ideal solution for retrieving hierarchical triples. However, we find that the **document frequency** is a good measure for **skill generality** and manages to sort actual hierarchical triples well.\n",
    "\n",
    "We also computed skill synonyms. Those do not have a hierarchical structure but would be siblings (or label alternatives) in the taxonomy. Here show a couple of examples:\n",
    "\n",
    "Good examples:\n",
    "```\n",
    "operate sound live <--> mix sound in a live situation\n",
    "confer on artwork <--> interpret artistic intentions\n",
    "provide anaesthetics to animals <--> provide sedation to animals\n",
    "\n",
    "```\n",
    "\n",
    "Bad examples:\n",
    "```\n",
    "perform veterinary diagnosis <--> provide sedation to animals\n",
    "research new ideas <--> verify feasibility\n",
    "record music <--> perform soundchecks\n",
    "```\n",
    "\n",
    "Appearently, our method finds some high-quality skill synonyms but fails in other cases. The **document frequeny is probably not ideal for identifying synonyms** and more weight should be given to the **cosine similarity of the word embeddings**."
   ]
  },
  {
   "cell_type": "markdown",
   "metadata": {},
   "source": [
    "### Taxonomy Graph\n",
    "\n",
    "Here we generate the **directed taxonomy graph** based on the taxonomy branches. It is not yet a complete and clean taxonomy in a tree form, but it is a **good starting point** for creating one. The clusters provide a first level division of the skills. The merged taxonomy branches then provide the hierarchical structure. \n",
    "\n",
    "The node colors represent the cluster ID and the directed edges show the decending level of hierarchy. We only plot a selection of the branches from different clusters in order to maintain readabilty."
   ]
  },
  {
   "cell_type": "code",
   "execution_count": null,
   "metadata": {},
   "outputs": [],
   "source": [
    "build_taxonomy_branches.visualise_taxonomy_branches(skill_hierarchy, skill_mapping_dicts[\"skill to cluster\"], directed_graph=True, every_nth_sample=20)"
   ]
  },
  {
   "cell_type": "markdown",
   "metadata": {},
   "source": [
    "### Skill Synonyms Graph\n",
    "\n",
    "This graph shows *skill synonyms*. Those skills have very **similar skill descriptions** accorcding to their word embeddings and **identical document frequency** (= generality level). They do not necessarily have to be synonyms but should be similar in their application. Examples are *study media sources* and *research new ideas* or the triple *perform technical soundcheck*, *assess sound quality* and *coordinate activities in audio recording studio*."
   ]
  },
  {
   "cell_type": "code",
   "execution_count": null,
   "metadata": {},
   "outputs": [],
   "source": [
    "build_taxonomy_branches.visualise_taxonomy_branches(synonym_skills, skill_mapping_dicts[\"skill to cluster\"], directed_graph=False, every_nth_sample=10)"
   ]
  },
  {
   "cell_type": "markdown",
   "metadata": {},
   "source": [
    "## Conclusion and Outlook<a id='con'></a>\n",
    "[[back to top]](#top)\n",
    "\n",
    "In this notebook, we have described and implemented an approach for **generating a new taxonomy for skills**. We have loaded and analysed the data and even **fixed some errors** (3-digit ISCO IDs). We have visualized the data and the ISCO hierarchy. We have extracted *tf-idf* features for each skill and ISCO node and used those features for clustering the skills into reasonably meaningful groups of skills. Finally, extracted **taxonomy branches** including **skill synomyms** by utilizing word embeddings of skill descriptions and the document frequency.\n",
    "\n",
    "We have found that many of the returned taxonomy branches are meaningful in the sense that they represent skills of the same field. Some even show **valuable hierachical structure**. However, many others are **not related in a hierarchical way**, even when sorted differently. Therefore, we must find an alternative way for **identifying related skill pairs of different taxonomy levels**. \n",
    "\n",
    "In order to solve this, we could use the ISCO levels and the term and document frequency for identifying skill pairs that occur in **similar contexts but are prevalent at different levels**. One could also try to measure **how much one skill covers another** (e.g. in terms of how many nodes or occupations) and use this informatiion for generating a hierarchy. \n",
    "\n",
    "We could also utilize the skill's *reuseLevel* categories (*sector-specific*, *cross-sector*, *occupation-specific* and *transversal*) as they may hold information about a skill's generality level and its position in the taxonomy. And we could pre-sort the skills into *skill/competence* and *knowledge* type, which could help building a more refined taxnomy.\n",
    "\n",
    "Furthermore, we could use **topic modeling** based on the skill descriptions (and/or the associated job descriptions) for **retrieving main and sub categories** for the taxonomy and grouping the skills.  Finally, we could try to employ **hierarchical clustering** for building the taxonomy based on the extracted features and the information we have on skills, occupations and ISCO IDs."
   ]
  },
  {
   "cell_type": "markdown",
   "metadata": {},
   "source": [
    "Due to time constraints, we only managed to develop a **prototype** for building a new taxonomy. Still, we gained insight in the data and learned about possible ways to address this problem.\n",
    "\n",
    "**Thank you for this exciting assessment, Nesta!**"
   ]
  }
 ],
 "metadata": {
  "jupytext": {
   "cell_metadata_filter": "-all",
   "comment_magics": true,
   "formats": "ipynb,auto:percent"
  },
  "kernelspec": {
   "display_name": "Python 3.8.8 64-bit ('skills_taxonomy': conda)",
   "language": "python",
   "name": "python388jvsc74a57bd0385aca7cc7193fa7fe2051d6a4a197b1c6fa9bef8687e1d073398ce7bdd836d1"
  },
  "language_info": {
   "codemirror_mode": {
    "name": "ipython",
    "version": 3
   },
   "file_extension": ".py",
   "mimetype": "text/x-python",
   "name": "python",
   "nbconvert_exporter": "python",
   "pygments_lexer": "ipython3",
   "version": "3.8.8"
  },
  "metadata": {
   "interpreter": {
    "hash": "385aca7cc7193fa7fe2051d6a4a197b1c6fa9bef8687e1d073398ce7bdd836d1"
   }
  }
 },
 "nbformat": 4,
 "nbformat_minor": 4
}
